{
 "cells": [
  {
   "cell_type": "code",
   "execution_count": 19,
   "metadata": {},
   "outputs": [],
   "source": [
    "import torch\n",
    "import torchvision\n",
    "import torchvision.transforms as transforms\n",
    "import pandas as pd\n",
    "from superimposed import Superimposed"
   ]
  },
  {
   "cell_type": "markdown",
   "metadata": {},
   "source": [
    "# Loading Data\n",
    "\n",
    "The output of torchvision datasets are PILImage images of range [0, 1].\n",
    "\n",
    "We transform them to Tensors of normalized range [-1, 1]."
   ]
  },
  {
   "cell_type": "code",
   "execution_count": 3,
   "metadata": {},
   "outputs": [],
   "source": [
    "transform = transforms.Compose(\n",
    "    [transforms.ToTensor(),\n",
    "     transforms.Normalize((0.5, 0.5, 0.5), (0.5, 0.5, 0.5))])\n",
    "\n",
    "trainset = Superimposed('./mnist_data', './cifar_data', train=True,\n",
    "                                        download=True)\n",
    "\n",
    "trainloader = torch.utils.data.DataLoader(trainset, batch_size=4,\n",
    "                                          shuffle=True, num_workers=2)\n",
    "\n",
    "testset = Superimposed('./mnist_data', './cifar_data', train=False,\n",
    "                                        download=True)\n",
    "\n",
    "testloader = torch.utils.data.DataLoader(testset, batch_size=4,\n",
    "                                         shuffle=False, num_workers=2)\n",
    "\n",
    "cifar_classes = ('plane', 'car', 'bird', 'cat', 'deer', 'dog', 'frog', 'horse', 'ship', 'truck')\n",
    "task0_classes = [\"animal\", \"non-animal\"]\n",
    "mnist_classes = ['0', '1', '2', '3', '4', '5', '6', '7', '8', '9']\n",
    "default_classes = [cifar_classes[i//10] + \"-\" + mnist_classes[i%10] for i in range(100)]\n",
    "task1_classes = [\"below-5\", \"above-equal-5\"]"
   ]
  },
  {
   "cell_type": "code",
   "execution_count": 6,
   "metadata": {},
   "outputs": [],
   "source": [
    "def label_to_default_task(l):\n",
    "    return int(str(int(l[0])) + str(int(l[1])))\n",
    "\n",
    "def label_to_cifar(l):\n",
    "    return int(l[0])\n",
    "\n",
    "#animal vs non-animal\n",
    "def label_to_task0(l):\n",
    "    if len(l.shape) != 0:\n",
    "        l = label_to_default_task(l)\n",
    "    if l//10 in [2, 3, 4, 5, 6, 7]: #animal\n",
    "        return 0\n",
    "    elif l//10 in [0, 1, 8, 9]: #not animal\n",
    "        return 1\n",
    "    else:\n",
    "        return 2\n",
    "\n",
    "#task1 is large vs small mamall\n",
    "def label_to_task1(l):\n",
    "    if len(l.shape) != 0:\n",
    "        l = label_to_default_task(l)\n",
    "    if l%10 < 5:\n",
    "        return 0\n",
    "    else:\n",
    "        return 1"
   ]
  },
  {
   "cell_type": "markdown",
   "metadata": {},
   "source": [
    "## Training Data Samples"
   ]
  },
  {
   "cell_type": "code",
   "execution_count": 8,
   "metadata": {},
   "outputs": [
    {
     "data": {
      "image/png": "[encoded data removed]",
      "text/plain": [
       "<Figure size 432x288 with 1 Axes>"
      ]
     },
     "metadata": {},
     "output_type": "display_data"
    },
    {
     "name": "stdout",
     "output_type": "stream",
     "text": [
      "animal non-animal animal non-animal\n",
      "below-5 above-equal-5 below-5 below-5\n"
     ]
    }
   ],
   "source": [
    "import matplotlib.pyplot as plt\n",
    "import numpy as np\n",
    "\n",
    "# functions to show an image\n",
    "def imshow(img):\n",
    "    img = img / 2 + 0.5     # unnormalize\n",
    "    npimg = img.numpy()\n",
    "    plt.imshow(np.transpose(npimg, (1, 2, 0)))\n",
    "    plt.show()\n",
    "\n",
    "# get some random training images\n",
    "dataiter = iter(trainloader)\n",
    "images, labels = dataiter.next()\n",
    "\n",
    "# show images\n",
    "imshow(torchvision.utils.make_grid(images))\n",
    "# print labels\n",
    "print(' '.join('%5s' % task0_classes[label_to_task0(labels[j])] for j in range(4)))\n",
    "print(' '.join('%5s' % task1_classes[label_to_task1(labels[j])] for j in range(4)))\n"
   ]
  },
  {
   "cell_type": "markdown",
   "metadata": {},
   "source": [
    "# Defining the Model"
   ]
  },
  {
   "cell_type": "code",
   "execution_count": 9,
   "metadata": {},
   "outputs": [],
   "source": [
    "import torch.nn as nn\n",
    "import torch.nn.functional as F\n",
    "\n",
    "\n",
    "class Net(nn.Module):\n",
    "    def __init__(self):\n",
    "        super(Net, self).__init__()\n",
    "        self.conv1 = nn.Conv2d(3, 6, 5)\n",
    "        self.pool = nn.MaxPool2d(2, 2)\n",
    "        self.conv2 = nn.Conv2d(6, 16, 5)\n",
    "        self.fc1 = nn.Linear(16 * 5 * 5, 120)\n",
    "        self.fc2 = nn.Linear(120, 84)\n",
    "        self.fc3 = nn.Linear(84, 2)\n",
    "        \n",
    "        self.fc1_1 = nn.Linear(16 * 5 * 5, 120)\n",
    "        self.fc2_1 = nn.Linear(120, 84)\n",
    "        self.fc3_1 = nn.Linear(84, 2)\n",
    "\n",
    "    def forward(self, x):\n",
    "        \"\"\"\n",
    "        x = self.pool(F.relu(self.conv1(x)))\n",
    "        x = self.pool(F.relu(self.conv2(x)))\n",
    "        \n",
    "        x1 = x.view(-1, 16 * 5 * 5)\n",
    "        x1 = F.relu(self.fc1(x1))\n",
    "        x1 = F.relu(self.fc2(x1))\n",
    "        x1 = self.fc3(x1)\n",
    "        \n",
    "        x2 = x.view(-1, 16 * 5 * 5)\n",
    "        x2 = F.relu(self.fc1_1(x2))\n",
    "        x2 = F.relu(self.fc2_1(x2))\n",
    "        x2 = self.fc3_1(x2)\n",
    "        \"\"\"\n",
    "        \n",
    "        x = self.pool(F.relu(self.conv1(x)))\n",
    "        x = self.pool(F.relu(self.conv2(x)))\n",
    "        x = x.view(-1, 16 * 5 * 5)\n",
    "        x = F.relu(self.fc1(x))\n",
    "        x = F.relu(self.fc2(x))\n",
    "        x1 = self.fc3(x)\n",
    "        \n",
    "        x2 = self.fc3_1(x)\n",
    "        return x1, x2\n",
    "\n",
    "\n",
    "net = Net()"
   ]
  },
  {
   "cell_type": "markdown",
   "metadata": {},
   "source": [
    "## Defining the Loss function and Optimizer"
   ]
  },
  {
   "cell_type": "code",
   "execution_count": 10,
   "metadata": {},
   "outputs": [],
   "source": [
    "import torch.optim as optim\n",
    "criterion = nn.CrossEntropyLoss()\n",
    "optimizer = optim.SGD(net.parameters(), lr=0.001, momentum=0.9)"
   ]
  },
  {
   "cell_type": "markdown",
   "metadata": {},
   "source": [
    "# Training the Network"
   ]
  },
  {
   "cell_type": "code",
   "execution_count": 11,
   "metadata": {},
   "outputs": [],
   "source": [
    "def train(net, optimizer, criterion, epochs=1):\n",
    "    for epoch in range(epochs):  # loop over the dataset multiple times\n",
    "        running_loss = 0.0\n",
    "        for i, data in enumerate(trainloader, 0):\n",
    "            # get the inputs\n",
    "            inputs, labels = data\n",
    "            labels1 = torch.tensor([label_to_task0(l) for l in labels])\n",
    "            labels2 = torch.tensor([label_to_task1(l) for l in labels])\n",
    "            \n",
    "            # zero the parameter gradients\n",
    "            optimizer.zero_grad()\n",
    "\n",
    "            # forward + backward + optimize\n",
    "            outputs1, _ = net(inputs)\n",
    "            loss1 = criterion(outputs1, labels1)\n",
    "            loss1.backward()\n",
    "            optimizer.step()\n",
    "            \n",
    "            # zero the parameter gradients\n",
    "            optimizer.zero_grad()\n",
    "\n",
    "            # forward + backward + optimize\n",
    "            _, outputs2 = net(inputs)\n",
    "            loss2 = criterion(outputs2, labels2)\n",
    "            loss2.backward()\n",
    "            optimizer.step()\n",
    "\n",
    "            # print statistics\n",
    "            running_loss += loss1.item() + loss2.item()\n",
    "            if i % 2000 == 1999:    # print every 2000 mini-batches\n",
    "                print('[%d, %5d] loss: %.3f' %\n",
    "                      (epoch + 1, i + 1, running_loss / 2000))\n",
    "                running_loss = 0.0\n",
    "\n",
    "    print('Finished Training')"
   ]
  },
  {
   "cell_type": "code",
   "execution_count": 12,
   "metadata": {},
   "outputs": [
    {
     "name": "stdout",
     "output_type": "stream",
     "text": [
      "[1,  2000] loss: 1.331\n",
      "[1,  4000] loss: 0.962\n",
      "[1,  6000] loss: 0.743\n",
      "[1,  8000] loss: 0.648\n",
      "[1, 10000] loss: 0.597\n",
      "[1, 12000] loss: 0.540\n",
      "Finished Training\n"
     ]
    }
   ],
   "source": [
    "train(net, optimizer, criterion)"
   ]
  },
  {
   "cell_type": "markdown",
   "metadata": {},
   "source": [
    "# Testing the Network"
   ]
  },
  {
   "cell_type": "code",
   "execution_count": 13,
   "metadata": {},
   "outputs": [
    {
     "data": {
      "image/png": "[encoded data removed]",
      "text/plain": [
       "<Figure size 432x288 with 1 Axes>"
      ]
     },
     "metadata": {},
     "output_type": "display_data"
    },
    {
     "name": "stdout",
     "output_type": "stream",
     "text": [
      "GroundTruth:  animal non-animal non-animal non-animal\n",
      "GroundTruth:  above-equal-5 below-5 below-5 below-5\n"
     ]
    },
    {
     "data": {
      "image/png": "[encoded data removed]",
      "text/plain": [
       "<Figure size 432x288 with 1 Axes>"
      ]
     },
     "metadata": {},
     "output_type": "display_data"
    },
    {
     "name": "stdout",
     "output_type": "stream",
     "text": [
      "GroundTruth:  animal animal non-animal animal\n",
      "GroundTruth:  below-5 below-5 below-5 above-equal-5\n"
     ]
    }
   ],
   "source": [
    "dataiter = iter(testloader)\n",
    "images, labels = dataiter.next()\n",
    "images2, labels2 = dataiter.next()\n",
    "\n",
    "# print images\n",
    "imshow(torchvision.utils.make_grid(images))\n",
    "print('GroundTruth: ', ' '.join('%5s' % task0_classes[label_to_task0(labels[j])] for j in range(4)))\n",
    "print('GroundTruth: ', ' '.join('%5s' % task1_classes[label_to_task1(labels[j])] for j in range(4)))\n",
    "# print images\n",
    "imshow(torchvision.utils.make_grid(images2))\n",
    "print('GroundTruth: ', ' '.join('%5s' % task0_classes[label_to_task0(labels2[j])] for j in range(4)))\n",
    "print('GroundTruth: ', ' '.join('%5s' % task1_classes[label_to_task1(labels2[j])] for j in range(4)))"
   ]
  },
  {
   "cell_type": "code",
   "execution_count": 14,
   "metadata": {},
   "outputs": [
    {
     "name": "stdout",
     "output_type": "stream",
     "text": [
      "Predicted:  animal non-animal non-animal non-animal\n",
      "Predicted:  above-equal-5 below-5 below-5 below-5\n",
      "Predicted:  animal animal animal animal\n",
      "Predicted:  below-5 below-5 below-5 above-equal-5\n"
     ]
    }
   ],
   "source": [
    "outputs1, outputs2 = net(images)\n",
    "\n",
    "_, predicted = torch.max(outputs1, 1)\n",
    "print('Predicted: ', ' '.join('%5s' % task0_classes[predicted[j]]\n",
    "                              for j in range(4)))\n",
    "\n",
    "_, predicted = torch.max(outputs2, 1)\n",
    "print('Predicted: ', ' '.join('%5s' % task1_classes[predicted[j]]\n",
    "                              for j in range(4)))\n",
    "\n",
    "outputs1, outputs2 = net(images2)\n",
    "_, predicted = torch.max(outputs1, 1)\n",
    "print('Predicted: ', ' '.join('%5s' % task0_classes[predicted[j]]\n",
    "                              for j in range(4)))\n",
    "\n",
    "_, predicted = torch.max(outputs2, 1)\n",
    "print('Predicted: ', ' '.join('%5s' % task1_classes[predicted[j]]\n",
    "                              for j in range(4)))"
   ]
  },
  {
   "cell_type": "code",
   "execution_count": 15,
   "metadata": {},
   "outputs": [],
   "source": [
    "def test_overall(net, performance=None):\n",
    "    correct = 0\n",
    "    total = 0\n",
    "    with torch.no_grad():\n",
    "        for data in testloader:\n",
    "            images, labels = data\n",
    "            labels = torch.tensor([label_to_task0(l) for l in labels])\n",
    "            outputs, _ = net(images)\n",
    "            _, predicted = torch.max(outputs.data, 1)\n",
    "            total += labels.size(0)\n",
    "            correct += (predicted == labels).sum().item()\n",
    "\n",
    "    print('Accuracy of the network on the 10000 test images: %d %%' % (\n",
    "        100 * correct / total))\n",
    "    \n",
    "    if performance != None:\n",
    "        performance[\"all\"].append(100 * correct / total)"
   ]
  },
  {
   "cell_type": "code",
   "execution_count": 16,
   "metadata": {},
   "outputs": [
    {
     "name": "stdout",
     "output_type": "stream",
     "text": [
      "Accuracy of the network on the 10000 test images: 83 %\n"
     ]
    }
   ],
   "source": [
    "test_overall(net)"
   ]
  },
  {
   "cell_type": "code",
   "execution_count": 17,
   "metadata": {},
   "outputs": [],
   "source": [
    "def test_individual(net, performance=None):\n",
    "    class_correct = list(0. for i in range(2))\n",
    "    class_total = list(0. for i in range(2))\n",
    "    with torch.no_grad():\n",
    "        for data in testloader:\n",
    "            images, labels = data\n",
    "            labels = torch.tensor([label_to_task0(l) for l in labels])\n",
    "            outputs, _ = net(images)\n",
    "            _, predicted = torch.max(outputs, 1)\n",
    "            c = (predicted == labels).squeeze()\n",
    "            for i in range(4):\n",
    "                label = labels[i]\n",
    "                class_correct[label] += c[i].item()\n",
    "                class_total[label] += 1\n",
    "\n",
    "\n",
    "    for i in range(2):\n",
    "        if class_total[i] == 0:\n",
    "            if performance != None:\n",
    "                performance[task0_classes[i]].append(None)\n",
    "        else:\n",
    "            print('Accuracy of %5s : %2d %%' % (\n",
    "                task0_classes[i], 100 * class_correct[i] / class_total[i]))\n",
    "            if performance != None:\n",
    "                performance[task0_classes[i]].append(100 * class_correct[i] / class_total[i])"
   ]
  },
  {
   "cell_type": "code",
   "execution_count": 18,
   "metadata": {},
   "outputs": [
    {
     "name": "stdout",
     "output_type": "stream",
     "text": [
      "Accuracy of animal : 85 %\n",
      "Accuracy of non-animal : 80 %\n"
     ]
    }
   ],
   "source": [
    "test_individual(net)"
   ]
  },
  {
   "cell_type": "code",
   "execution_count": 20,
   "metadata": {},
   "outputs": [
    {
     "name": "stdout",
     "output_type": "stream",
     "text": [
      "[1,  2000] loss: 1.370\n",
      "[1,  4000] loss: 1.291\n",
      "[1,  6000] loss: 0.889\n",
      "[1,  8000] loss: 0.702\n",
      "[1, 10000] loss: 0.640\n",
      "[1, 12000] loss: 0.602\n",
      "Finished Training\n",
      "Accuracy of the network on the 10000 test images: 81 %\n",
      "Accuracy of animal : 87 %\n",
      "Accuracy of non-animal : 71 %\n",
      "[1,  2000] loss: 1.311\n",
      "[1,  4000] loss: 0.941\n",
      "[1,  6000] loss: 0.713\n",
      "[1,  8000] loss: 0.618\n",
      "[1, 10000] loss: 0.570\n",
      "[1, 12000] loss: 0.528\n",
      "Finished Training\n",
      "Accuracy of the network on the 10000 test images: 82 %\n",
      "Accuracy of animal : 91 %\n",
      "Accuracy of non-animal : 68 %\n",
      "[1,  2000] loss: 1.311\n",
      "[1,  4000] loss: 0.917\n",
      "[1,  6000] loss: 0.696\n",
      "[1,  8000] loss: 0.615\n",
      "[1, 10000] loss: 0.569\n",
      "[1, 12000] loss: 0.533\n",
      "Finished Training\n",
      "Accuracy of the network on the 10000 test images: 83 %\n",
      "Accuracy of animal : 88 %\n",
      "Accuracy of non-animal : 75 %\n",
      "[1,  2000] loss: 1.303\n",
      "[1,  4000] loss: 0.866\n",
      "[1,  6000] loss: 0.693\n",
      "[1,  8000] loss: 0.612\n",
      "[1, 10000] loss: 0.576\n",
      "[1, 12000] loss: 0.539\n",
      "Finished Training\n",
      "Accuracy of the network on the 10000 test images: 78 %\n",
      "Accuracy of animal : 95 %\n",
      "Accuracy of non-animal : 53 %\n",
      "[1,  2000] loss: 1.360\n",
      "[1,  4000] loss: 1.097\n",
      "[1,  6000] loss: 0.760\n",
      "[1,  8000] loss: 0.661\n",
      "[1, 10000] loss: 0.613\n",
      "[1, 12000] loss: 0.585\n",
      "Finished Training\n",
      "Accuracy of the network on the 10000 test images: 81 %\n",
      "Accuracy of animal : 90 %\n",
      "Accuracy of non-animal : 68 %\n",
      "[1,  2000] loss: 1.317\n",
      "[1,  4000] loss: 0.908\n",
      "[1,  6000] loss: 0.704\n",
      "[1,  8000] loss: 0.608\n",
      "[1, 10000] loss: 0.572\n",
      "[1, 12000] loss: 0.529\n",
      "Finished Training\n",
      "Accuracy of the network on the 10000 test images: 84 %\n",
      "Accuracy of animal : 85 %\n",
      "Accuracy of non-animal : 82 %\n",
      "[1,  2000] loss: 1.261\n",
      "[1,  4000] loss: 0.833\n",
      "[1,  6000] loss: 0.684\n",
      "[1,  8000] loss: 0.605\n",
      "[1, 10000] loss: 0.568\n",
      "[1, 12000] loss: 0.531\n",
      "Finished Training\n",
      "Accuracy of the network on the 10000 test images: 80 %\n",
      "Accuracy of animal : 93 %\n",
      "Accuracy of non-animal : 61 %\n",
      "[1,  2000] loss: 1.330\n",
      "[1,  4000] loss: 0.953\n",
      "[1,  6000] loss: 0.735\n",
      "[1,  8000] loss: 0.646\n",
      "[1, 10000] loss: 0.585\n",
      "[1, 12000] loss: 0.556\n",
      "Finished Training\n",
      "Accuracy of the network on the 10000 test images: 83 %\n",
      "Accuracy of animal : 84 %\n",
      "Accuracy of non-animal : 81 %\n",
      "[1,  2000] loss: 1.319\n",
      "[1,  4000] loss: 0.975\n",
      "[1,  6000] loss: 0.721\n",
      "[1,  8000] loss: 0.665\n",
      "[1, 10000] loss: 0.609\n",
      "[1, 12000] loss: 0.572\n",
      "Finished Training\n",
      "Accuracy of the network on the 10000 test images: 82 %\n",
      "Accuracy of animal : 91 %\n",
      "Accuracy of non-animal : 68 %\n",
      "[1,  2000] loss: 1.360\n",
      "[1,  4000] loss: 1.023\n",
      "[1,  6000] loss: 0.752\n",
      "[1,  8000] loss: 0.663\n",
      "[1, 10000] loss: 0.605\n",
      "[1, 12000] loss: 0.552\n",
      "Finished Training\n",
      "Accuracy of the network on the 10000 test images: 82 %\n",
      "Accuracy of animal : 83 %\n",
      "Accuracy of non-animal : 81 %\n"
     ]
    }
   ],
   "source": [
    "def get_performance_data(iterations):\n",
    "    performance = {'all':[]}\n",
    "    for c in task0_classes:\n",
    "            performance[c] = []\n",
    "    for _ in range(iterations):\n",
    "        net = Net()\n",
    "        criterion = nn.CrossEntropyLoss()\n",
    "        optimizer = optim.SGD(net.parameters(), lr=0.001, momentum=0.9)\n",
    "        \n",
    "        train(net, optimizer, criterion)\n",
    "        test_overall(net, performance)\n",
    "        test_individual(net, performance)\n",
    "        \n",
    "    return performance\n",
    "        \n",
    "performance = get_performance_data(10)"
   ]
  },
  {
   "cell_type": "code",
   "execution_count": 21,
   "metadata": {},
   "outputs": [],
   "source": [
    "df = pd.DataFrame(data=performance)\n",
    "df.to_csv('cifar_mnist_conflicting_performance.csv')"
   ]
  },
  {
   "cell_type": "code",
   "execution_count": 22,
   "metadata": {},
   "outputs": [
    {
     "data": {
      "text/plain": [
       "82.106"
      ]
     },
     "execution_count": 22,
     "metadata": {},
     "output_type": "execute_result"
    }
   ],
   "source": [
    "np.mean(performance['all'])"
   ]
  }
 ],
 "metadata": {
  "kernelspec": {
   "display_name": "Python 3",
   "language": "python",
   "name": "python3"
  },
  "language_info": {
   "codemirror_mode": {
    "name": "ipython",
    "version": 3
   },
   "file_extension": ".py",
   "mimetype": "text/x-python",
   "name": "python",
   "nbconvert_exporter": "python",
   "pygments_lexer": "ipython3",
   "version": "3.6.5"
  }
 },
 "nbformat": 4,
 "nbformat_minor": 2
}
