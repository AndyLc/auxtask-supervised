{
 "cells": [
  {
   "cell_type": "code",
   "execution_count": 179,
   "metadata": {},
   "outputs": [],
   "source": [
    "import torch\n",
    "import torchvision\n",
    "import torchvision.transforms as transforms\n",
    "import pandas as pd\n",
    "from superimposed import Superimposed"
   ]
  },
  {
   "cell_type": "markdown",
   "metadata": {},
   "source": [
    "# Loading Data\n",
    "\n",
    "The output of torchvision datasets are PILImage images of range [0, 1].\n",
    "\n",
    "We transform them to Tensors of normalized range [-1, 1]."
   ]
  },
  {
   "cell_type": "code",
   "execution_count": 185,
   "metadata": {},
   "outputs": [],
   "source": [
    "transform = transforms.Compose(\n",
    "    [transforms.ToTensor(),\n",
    "     transforms.Normalize((0.5, 0.5, 0.5), (0.5, 0.5, 0.5))])\n",
    "\n",
    "trainset = Superimposed('./mnist_data', './cifar_data', train=True,\n",
    "                                        download=True)\n",
    "\n",
    "trainloader = torch.utils.data.DataLoader(trainset, batch_size=4,\n",
    "                                          shuffle=True, num_workers=2)\n",
    "\n",
    "testset = Superimposed('./mnist_data', './cifar_data', train=False,\n",
    "                                        download=True)\n",
    "\n",
    "testloader = torch.utils.data.DataLoader(testset, batch_size=4,\n",
    "                                         shuffle=False, num_workers=2)\n",
    "\n",
    "cifar_classes = ('plane', 'car', 'bird', 'cat', 'deer', 'dog', 'frog', 'horse', 'ship', 'truck')\n",
    "task0_classes = [\"animal\", \"non-animal\"]\n",
    "mnist_classes = ['0', '1', '2', '3', '4', '5', '6', '7', '8', '9']\n",
    "default_classes = [cifar_classes[i//10] + \"-\" + mnist_classes[i%10] for i in range(100)]\n",
    "task1_classes = [\"small-m\", \"large-m\", \"not-m\"]"
   ]
  },
  {
   "cell_type": "code",
   "execution_count": 186,
   "metadata": {},
   "outputs": [],
   "source": [
    "def label_to_default_task(l):\n",
    "    return int(str(int(l[0])) + str(int(l[1])))\n",
    "\n",
    "def label_to_cifar(l):\n",
    "    return int(l[0])\n",
    "\n",
    "#animal vs non-animal\n",
    "def label_to_task0(l):\n",
    "    if len(l.shape) != 0:\n",
    "        l = label_to_default_task(l)\n",
    "    if l//10 in [2, 3, 4, 5, 6, 7]: #animal\n",
    "        return 0\n",
    "    elif l//10 in [0, 1, 8, 9]: #not animal\n",
    "        return 1\n",
    "    else:\n",
    "        return 2\n",
    "\n",
    "#task1 is large vs small mamall\n",
    "def label_to_task1(l):\n",
    "    if len(l.shape) != 0:\n",
    "        l = label_to_default_task(l)\n",
    "    if l//10 in [2, 3, 5, 6]:\n",
    "        return 0\n",
    "    elif l//10 in [4, 7]:\n",
    "        return 1\n",
    "    else:\n",
    "        return 2"
   ]
  },
  {
   "cell_type": "markdown",
   "metadata": {},
   "source": [
    "## Training Data Samples"
   ]
  },
  {
   "cell_type": "code",
   "execution_count": 187,
   "metadata": {},
   "outputs": [
    {
     "data": {
      "image/png": "[encoded data removed]",
      "text/plain": [
       "<Figure size 432x288 with 1 Axes>"
      ]
     },
     "metadata": {},
     "output_type": "display_data"
    },
    {
     "name": "stdout",
     "output_type": "stream",
     "text": [
      "non-animal animal animal animal\n",
      "not-m large-m small-m small-m\n"
     ]
    }
   ],
   "source": [
    "import matplotlib.pyplot as plt\n",
    "import numpy as np\n",
    "\n",
    "# functions to show an image\n",
    "def imshow(img):\n",
    "    img = img / 2 + 0.5     # unnormalize\n",
    "    npimg = img.numpy()\n",
    "    plt.imshow(np.transpose(npimg, (1, 2, 0)))\n",
    "    plt.show()\n",
    "\n",
    "# get some random training images\n",
    "dataiter = iter(trainloader)\n",
    "images, labels = dataiter.next()\n",
    "\n",
    "# show images\n",
    "imshow(torchvision.utils.make_grid(images))\n",
    "# print labels\n",
    "print(' '.join('%5s' % task0_classes[label_to_task0(labels[j])] for j in range(4)))\n",
    "print(' '.join('%5s' % task1_classes[label_to_task1(labels[j])] for j in range(4)))\n"
   ]
  },
  {
   "cell_type": "markdown",
   "metadata": {},
   "source": [
    "# Defining the Model"
   ]
  },
  {
   "cell_type": "code",
   "execution_count": 188,
   "metadata": {},
   "outputs": [],
   "source": [
    "import torch.nn as nn\n",
    "import torch.nn.functional as F\n",
    "\n",
    "\n",
    "class Net(nn.Module):\n",
    "    def __init__(self):\n",
    "        super(Net, self).__init__()\n",
    "        self.conv1 = nn.Conv2d(3, 6, 5)\n",
    "        self.pool = nn.MaxPool2d(2, 2)\n",
    "        self.conv2 = nn.Conv2d(6, 16, 5)\n",
    "        self.fc1 = nn.Linear(16 * 5 * 5, 120)\n",
    "        self.fc2 = nn.Linear(120, 84)\n",
    "        self.fc3 = nn.Linear(84, 2)\n",
    "        \n",
    "        self.fc1_1 = nn.Linear(16 * 5 * 5, 120)\n",
    "        self.fc2_1 = nn.Linear(120, 84)\n",
    "        self.fc3_1 = nn.Linear(84, 3)\n",
    "\n",
    "    def forward(self, x):\n",
    "        \"\"\"\n",
    "        x = self.pool(F.relu(self.conv1(x)))\n",
    "        x = self.pool(F.relu(self.conv2(x)))\n",
    "        \n",
    "        x1 = x.view(-1, 16 * 5 * 5)\n",
    "        x1 = F.relu(self.fc1(x1))\n",
    "        x1 = F.relu(self.fc2(x1))\n",
    "        x1 = self.fc3(x1)\n",
    "        \n",
    "        x2 = x.view(-1, 16 * 5 * 5)\n",
    "        x2 = F.relu(self.fc1_1(x2))\n",
    "        x2 = F.relu(self.fc2_1(x2))\n",
    "        x2 = self.fc3_1(x2)\n",
    "        \"\"\"\n",
    "        \n",
    "        x = self.pool(F.relu(self.conv1(x)))\n",
    "        x = self.pool(F.relu(self.conv2(x)))\n",
    "        x = x.view(-1, 16 * 5 * 5)\n",
    "        x = F.relu(self.fc1(x))\n",
    "        x = F.relu(self.fc2(x))\n",
    "        x1 = self.fc3(x)\n",
    "        \n",
    "        x2 = self.fc3_1(x)\n",
    "        return x1, x2\n",
    "\n",
    "\n",
    "net = Net()"
   ]
  },
  {
   "cell_type": "markdown",
   "metadata": {},
   "source": [
    "## Defining the Loss function and Optimizer"
   ]
  },
  {
   "cell_type": "code",
   "execution_count": 189,
   "metadata": {},
   "outputs": [],
   "source": [
    "import torch.optim as optim\n",
    "criterion = nn.CrossEntropyLoss()\n",
    "optimizer = optim.SGD(net.parameters(), lr=0.001, momentum=0.9)"
   ]
  },
  {
   "cell_type": "markdown",
   "metadata": {},
   "source": [
    "# Training the Network"
   ]
  },
  {
   "cell_type": "code",
   "execution_count": 190,
   "metadata": {},
   "outputs": [],
   "source": [
    "def train(net, optimizer, criterion, epochs=1):\n",
    "    for epoch in range(epochs):  # loop over the dataset multiple times\n",
    "        running_loss = 0.0\n",
    "        for i, data in enumerate(trainloader, 0):\n",
    "            # get the inputs\n",
    "            inputs, labels = data\n",
    "            labels1 = torch.tensor([label_to_task0(l) for l in labels])\n",
    "            labels2 = torch.tensor([label_to_task1(l) for l in labels])\n",
    "            \n",
    "            # zero the parameter gradients\n",
    "            optimizer.zero_grad()\n",
    "\n",
    "            # forward + backward + optimize\n",
    "            outputs1, _ = net(inputs)\n",
    "            loss1 = criterion(outputs1, labels1)\n",
    "            loss1.backward()\n",
    "            optimizer.step()\n",
    "            \n",
    "            # zero the parameter gradients\n",
    "            optimizer.zero_grad()\n",
    "\n",
    "            # forward + backward + optimize\n",
    "            _, outputs2 = net(inputs)\n",
    "            loss2 = criterion(outputs2, labels2)\n",
    "            loss2.backward()\n",
    "            optimizer.step()\n",
    "\n",
    "            # print statistics\n",
    "            running_loss += loss1.item() + loss2.item()\n",
    "            if i % 2000 == 1999:    # print every 2000 mini-batches\n",
    "                print('[%d, %5d] loss: %.3f' %\n",
    "                      (epoch + 1, i + 1, running_loss / 2000))\n",
    "                running_loss = 0.0\n",
    "\n",
    "    print('Finished Training')"
   ]
  },
  {
   "cell_type": "code",
   "execution_count": 191,
   "metadata": {},
   "outputs": [
    {
     "name": "stdout",
     "output_type": "stream",
     "text": [
      "[1,  2000] loss: 1.625\n",
      "[1,  4000] loss: 1.366\n",
      "[1,  6000] loss: 1.268\n",
      "[1,  8000] loss: 1.209\n",
      "[1, 10000] loss: 1.108\n",
      "[1, 12000] loss: 1.076\n",
      "Finished Training\n"
     ]
    }
   ],
   "source": [
    "train(net, optimizer, criterion)"
   ]
  },
  {
   "cell_type": "markdown",
   "metadata": {},
   "source": [
    "# Testing the Network"
   ]
  },
  {
   "cell_type": "code",
   "execution_count": 192,
   "metadata": {},
   "outputs": [
    {
     "data": {
      "image/png": "[encoded data removed]",
      "text/plain": [
       "<Figure size 432x288 with 1 Axes>"
      ]
     },
     "metadata": {},
     "output_type": "display_data"
    },
    {
     "name": "stdout",
     "output_type": "stream",
     "text": [
      "GroundTruth:  animal non-animal non-animal non-animal\n",
      "GroundTruth:  small-m not-m not-m not-m\n"
     ]
    },
    {
     "data": {
      "image/png": "[encoded data removed]",
      "text/plain": [
       "<Figure size 432x288 with 1 Axes>"
      ]
     },
     "metadata": {},
     "output_type": "display_data"
    },
    {
     "name": "stdout",
     "output_type": "stream",
     "text": [
      "GroundTruth:  animal animal non-animal animal\n",
      "GroundTruth:  small-m small-m not-m small-m\n"
     ]
    }
   ],
   "source": [
    "dataiter = iter(testloader)\n",
    "images, labels = dataiter.next()\n",
    "images2, labels2 = dataiter.next()\n",
    "\n",
    "# print images\n",
    "imshow(torchvision.utils.make_grid(images))\n",
    "print('GroundTruth: ', ' '.join('%5s' % task0_classes[label_to_task0(labels[j])] for j in range(4)))\n",
    "print('GroundTruth: ', ' '.join('%5s' % task1_classes[label_to_task1(labels[j])] for j in range(4)))\n",
    "# print images\n",
    "imshow(torchvision.utils.make_grid(images2))\n",
    "print('GroundTruth: ', ' '.join('%5s' % task0_classes[label_to_task0(labels2[j])] for j in range(4)))\n",
    "print('GroundTruth: ', ' '.join('%5s' % task1_classes[label_to_task1(labels2[j])] for j in range(4)))"
   ]
  },
  {
   "cell_type": "code",
   "execution_count": 198,
   "metadata": {},
   "outputs": [
    {
     "name": "stdout",
     "output_type": "stream",
     "text": [
      "Predicted:  animal non-animal non-animal non-animal\n",
      "Predicted:  small-m not-m not-m not-m\n",
      "Predicted:  animal animal non-animal animal\n",
      "Predicted:  small-m small-m not-m small-m\n"
     ]
    }
   ],
   "source": [
    "outputs1, outputs2 = net(images)\n",
    "\n",
    "_, predicted = torch.max(outputs1, 1)\n",
    "print('Predicted: ', ' '.join('%5s' % task0_classes[predicted[j]]\n",
    "                              for j in range(4)))\n",
    "\n",
    "_, predicted = torch.max(outputs2, 1)\n",
    "print('Predicted: ', ' '.join('%5s' % task1_classes[predicted[j]]\n",
    "                              for j in range(4)))\n",
    "\n",
    "outputs1, outputs2 = net(images2)\n",
    "_, predicted = torch.max(outputs1, 1)\n",
    "print('Predicted: ', ' '.join('%5s' % task0_classes[predicted[j]]\n",
    "                              for j in range(4)))\n",
    "\n",
    "_, predicted = torch.max(outputs2, 1)\n",
    "print('Predicted: ', ' '.join('%5s' % task1_classes[predicted[j]]\n",
    "                              for j in range(4)))"
   ]
  },
  {
   "cell_type": "code",
   "execution_count": 199,
   "metadata": {},
   "outputs": [],
   "source": [
    "def test_overall(net, performance=None):\n",
    "    correct = 0\n",
    "    total = 0\n",
    "    with torch.no_grad():\n",
    "        for data in testloader:\n",
    "            images, labels = data\n",
    "            labels = torch.tensor([label_to_task0(l) for l in labels])\n",
    "            outputs, _ = net(images)\n",
    "            _, predicted = torch.max(outputs.data, 1)\n",
    "            total += labels.size(0)\n",
    "            correct += (predicted == labels).sum().item()\n",
    "\n",
    "    print('Accuracy of the network on the 10000 test images: %d %%' % (\n",
    "        100 * correct / total))\n",
    "    \n",
    "    if performance != None:\n",
    "        performance[\"all\"].append(100 * correct / total)"
   ]
  },
  {
   "cell_type": "code",
   "execution_count": 200,
   "metadata": {},
   "outputs": [
    {
     "name": "stdout",
     "output_type": "stream",
     "text": [
      "Accuracy of the network on the 10000 test images: 86 %\n"
     ]
    }
   ],
   "source": [
    "test_overall(net)"
   ]
  },
  {
   "cell_type": "code",
   "execution_count": 201,
   "metadata": {},
   "outputs": [],
   "source": [
    "def test_individual(net, performance=None):\n",
    "    class_correct = list(0. for i in range(2))\n",
    "    class_total = list(0. for i in range(2))\n",
    "    with torch.no_grad():\n",
    "        for data in testloader:\n",
    "            images, labels = data\n",
    "            labels = torch.tensor([label_to_task0(l) for l in labels])\n",
    "            outputs, _ = net(images)\n",
    "            _, predicted = torch.max(outputs, 1)\n",
    "            c = (predicted == labels).squeeze()\n",
    "            for i in range(4):\n",
    "                label = labels[i]\n",
    "                class_correct[label] += c[i].item()\n",
    "                class_total[label] += 1\n",
    "\n",
    "\n",
    "    for i in range(2):\n",
    "        if class_total[i] == 0:\n",
    "            if performance != None:\n",
    "                performance[task0_classes[i]].append(None)\n",
    "        else:\n",
    "            print('Accuracy of %5s : %2d %%' % (\n",
    "                task0_classes[i], 100 * class_correct[i] / class_total[i]))\n",
    "            if performance != None:\n",
    "                performance[task0_classes[i]].append(100 * class_correct[i] / class_total[i])"
   ]
  },
  {
   "cell_type": "code",
   "execution_count": 202,
   "metadata": {},
   "outputs": [
    {
     "name": "stdout",
     "output_type": "stream",
     "text": [
      "Accuracy of animal : 88 %\n",
      "Accuracy of non-animal : 83 %\n"
     ]
    }
   ],
   "source": [
    "test_individual(net)"
   ]
  },
  {
   "cell_type": "code",
   "execution_count": 203,
   "metadata": {
    "scrolled": true
   },
   "outputs": [
    {
     "name": "stdout",
     "output_type": "stream",
     "text": [
      "[1,  2000] loss: 1.690\n",
      "[1,  4000] loss: 1.407\n",
      "[1,  6000] loss: 1.283\n",
      "[1,  8000] loss: 1.192\n",
      "[1, 10000] loss: 1.169\n",
      "[1, 12000] loss: 1.110\n",
      "Finished Training\n",
      "Accuracy of the network on the 10000 test images: 84 %\n",
      "Accuracy of animal : 91 %\n",
      "Accuracy of non-animal : 74 %\n",
      "[1,  2000] loss: 1.653\n",
      "[1,  4000] loss: 1.416\n",
      "[1,  6000] loss: 1.308\n",
      "[1,  8000] loss: 1.187\n",
      "[1, 10000] loss: 1.129\n",
      "[1, 12000] loss: 1.066\n",
      "Finished Training\n",
      "Accuracy of the network on the 10000 test images: 83 %\n",
      "Accuracy of animal : 94 %\n",
      "Accuracy of non-animal : 68 %\n",
      "[1,  2000] loss: 1.689\n",
      "[1,  4000] loss: 1.422\n",
      "[1,  6000] loss: 1.277\n",
      "[1,  8000] loss: 1.224\n",
      "[1, 10000] loss: 1.152\n",
      "[1, 12000] loss: 1.092\n",
      "Finished Training\n",
      "Accuracy of the network on the 10000 test images: 84 %\n",
      "Accuracy of animal : 86 %\n",
      "Accuracy of non-animal : 82 %\n",
      "[1,  2000] loss: 1.683\n",
      "[1,  4000] loss: 1.421\n",
      "[1,  6000] loss: 1.307\n",
      "[1,  8000] loss: 1.216\n",
      "[1, 10000] loss: 1.155\n",
      "[1, 12000] loss: 1.116\n",
      "Finished Training\n",
      "Accuracy of the network on the 10000 test images: 83 %\n",
      "Accuracy of animal : 79 %\n",
      "Accuracy of non-animal : 88 %\n",
      "[1,  2000] loss: 1.639\n",
      "[1,  4000] loss: 1.386\n",
      "[1,  6000] loss: 1.303\n",
      "[1,  8000] loss: 1.199\n",
      "[1, 10000] loss: 1.129\n",
      "[1, 12000] loss: 1.106\n",
      "Finished Training\n",
      "Accuracy of the network on the 10000 test images: 85 %\n",
      "Accuracy of animal : 84 %\n",
      "Accuracy of non-animal : 86 %\n",
      "[1,  2000] loss: 1.645\n",
      "[1,  4000] loss: 1.395\n",
      "[1,  6000] loss: 1.283\n",
      "[1,  8000] loss: 1.224\n",
      "[1, 10000] loss: 1.163\n",
      "[1, 12000] loss: 1.120\n",
      "Finished Training\n",
      "Accuracy of the network on the 10000 test images: 85 %\n",
      "Accuracy of animal : 90 %\n",
      "Accuracy of non-animal : 79 %\n",
      "[1,  2000] loss: 1.626\n",
      "[1,  4000] loss: 1.402\n",
      "[1,  6000] loss: 1.307\n",
      "[1,  8000] loss: 1.242\n",
      "[1, 10000] loss: 1.187\n",
      "[1, 12000] loss: 1.163\n",
      "Finished Training\n",
      "Accuracy of the network on the 10000 test images: 84 %\n",
      "Accuracy of animal : 89 %\n",
      "Accuracy of non-animal : 75 %\n",
      "[1,  2000] loss: 1.644\n",
      "[1,  4000] loss: 1.417\n",
      "[1,  6000] loss: 1.259\n",
      "[1,  8000] loss: 1.190\n",
      "[1, 10000] loss: 1.104\n",
      "[1, 12000] loss: 1.067\n",
      "Finished Training\n",
      "Accuracy of the network on the 10000 test images: 84 %\n",
      "Accuracy of animal : 83 %\n",
      "Accuracy of non-animal : 86 %\n",
      "[1,  2000] loss: 1.635\n",
      "[1,  4000] loss: 1.372\n",
      "[1,  6000] loss: 1.248\n",
      "[1,  8000] loss: 1.210\n",
      "[1, 10000] loss: 1.098\n",
      "[1, 12000] loss: 1.091\n",
      "Finished Training\n",
      "Accuracy of the network on the 10000 test images: 81 %\n",
      "Accuracy of animal : 96 %\n",
      "Accuracy of non-animal : 58 %\n",
      "[1,  2000] loss: 1.666\n",
      "[1,  4000] loss: 1.408\n",
      "[1,  6000] loss: 1.307\n",
      "[1,  8000] loss: 1.210\n",
      "[1, 10000] loss: 1.118\n",
      "[1, 12000] loss: 1.074\n",
      "Finished Training\n",
      "Accuracy of the network on the 10000 test images: 85 %\n",
      "Accuracy of animal : 92 %\n",
      "Accuracy of non-animal : 75 %\n"
     ]
    }
   ],
   "source": [
    "def get_performance_data(iterations):\n",
    "    performance = {'all':[]}\n",
    "    for c in task0_classes:\n",
    "            performance[c] = []\n",
    "    for _ in range(iterations):\n",
    "        net = Net()\n",
    "        criterion = nn.CrossEntropyLoss()\n",
    "        optimizer = optim.SGD(net.parameters(), lr=0.001, momentum=0.9)\n",
    "        \n",
    "        train(net, optimizer, criterion)\n",
    "        test_overall(net, performance)\n",
    "        test_individual(net, performance)\n",
    "        \n",
    "    return performance\n",
    "        \n",
    "performance = get_performance_data(10)"
   ]
  },
  {
   "cell_type": "code",
   "execution_count": 204,
   "metadata": {},
   "outputs": [],
   "source": [
    "df = pd.DataFrame(data=performance)\n",
    "df.to_csv('cifar_mnist_shared_performance.csv')"
   ]
  },
  {
   "cell_type": "code",
   "execution_count": 205,
   "metadata": {},
   "outputs": [
    {
     "data": {
      "text/plain": [
       "84.27000000000001"
      ]
     },
     "execution_count": 205,
     "metadata": {},
     "output_type": "execute_result"
    }
   ],
   "source": [
    "np.mean(performance['all'])"
   ]
  },
  {
   "cell_type": "code",
   "execution_count": null,
   "metadata": {},
   "outputs": [],
   "source": []
  },
  {
   "cell_type": "code",
   "execution_count": null,
   "metadata": {},
   "outputs": [],
   "source": []
  }
 ],
 "metadata": {
  "kernelspec": {
   "display_name": "Python 3",
   "language": "python",
   "name": "python3"
  },
  "language_info": {
   "codemirror_mode": {
    "name": "ipython",
    "version": 3
   },
   "file_extension": ".py",
   "mimetype": "text/x-python",
   "name": "python",
   "nbconvert_exporter": "python",
   "pygments_lexer": "ipython3",
   "version": "3.6.5"
  }
 },
 "nbformat": 4,
 "nbformat_minor": 2
}
