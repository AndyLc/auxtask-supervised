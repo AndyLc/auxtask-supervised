{
 "cells": [
  {
   "cell_type": "code",
   "execution_count": 135,
   "metadata": {},
   "outputs": [],
   "source": [
    "import torch\n",
    "import torchvision\n",
    "import torchvision.transforms as transforms\n",
    "import pandas as pd\n",
    "from superimposed import Superimposed"
   ]
  },
  {
   "cell_type": "markdown",
   "metadata": {},
   "source": [
    "# Loading Data\n",
    "\n",
    "The output of torchvision datasets are PILImage images of range [0, 1].\n",
    "\n",
    "We transform them to Tensors of normalized range [-1, 1]."
   ]
  },
  {
   "cell_type": "code",
   "execution_count": 151,
   "metadata": {},
   "outputs": [],
   "source": [
    "transform = transforms.Compose(\n",
    "    [transforms.ToTensor(),\n",
    "     transforms.Normalize((0.5, 0.5, 0.5), (0.5, 0.5, 0.5))])\n",
    "\n",
    "trainset = Superimposed('./mnist_data', './cifar_data', train=True,\n",
    "                                        download=True)\n",
    "\n",
    "trainloader = torch.utils.data.DataLoader(trainset, batch_size=4,\n",
    "                                          shuffle=True, num_workers=2)\n",
    "\n",
    "testset = Superimposed('./mnist_data', './cifar_data', train=False,\n",
    "                                        download=True)\n",
    "\n",
    "testloader = torch.utils.data.DataLoader(testset, batch_size=4,\n",
    "                                         shuffle=False, num_workers=2)\n",
    "\n",
    "cifar_classes = ('plane', 'car', 'bird', 'cat', 'deer', 'dog', 'frog', 'horse', 'ship', 'truck')\n",
    "mnist_classes = ['0', '1', '2', '3', '4', '5', '6', '7', '8', '9']\n",
    "\n",
    "classes = [cifar_classes[i//10] + \"-\" + mnist_classes[i%10] for i in range(100)]\n",
    "\n",
    "task0_classes = [\"animal\", \"non-animal\"]\n",
    "\n",
    "cifar_mnist_to_int = [[i for i in range(10*j, 10*(j+1))] for j in range(10)]\n",
    "\n"
   ]
  },
  {
   "cell_type": "code",
   "execution_count": 152,
   "metadata": {},
   "outputs": [],
   "source": [
    "def label_to_default_task(l):\n",
    "    return int(str(int(l[0])) + str(int(l[1])))\n",
    "\n",
    "#animal vs non-animal\n",
    "def label_to_task0(l):\n",
    "    if len(l.shape) != 0:\n",
    "        l = label_to_default_task(l)\n",
    "    if l//10 in [2, 3, 4, 5, 6, 7]: #animal\n",
    "        return 0\n",
    "    elif l//10 in [0, 1, 8, 9]: #not animal\n",
    "        return 1\n",
    "    else:\n",
    "        return 2"
   ]
  },
  {
   "cell_type": "markdown",
   "metadata": {},
   "source": [
    "## Training Data Samples"
   ]
  },
  {
   "cell_type": "code",
   "execution_count": 157,
   "metadata": {},
   "outputs": [
    {
     "data": {
      "image/png": "[encoded data removed]",
      "text/plain": [
       "<Figure size 432x288 with 1 Axes>"
      ]
     },
     "metadata": {},
     "output_type": "display_data"
    },
    {
     "name": "stdout",
     "output_type": "stream",
     "text": [
      "non-animal non-animal animal non-animal\n"
     ]
    }
   ],
   "source": [
    "import matplotlib.pyplot as plt\n",
    "import numpy as np\n",
    "\n",
    "# functions to show an image\n",
    "def imshow(img):\n",
    "    img = img / 2 + 0.5     # unnormalize\n",
    "    npimg = img.numpy()\n",
    "    plt.imshow(np.transpose(npimg, (1, 2, 0)))\n",
    "    plt.show()\n",
    "\n",
    "# get some random training images\n",
    "dataiter = iter(trainloader)\n",
    "images, labels = dataiter.next()\n",
    "\n",
    "# show images\n",
    "imshow(torchvision.utils.make_grid(images))\n",
    "# print labels\n",
    "print(' '.join('%5s' % task0_classes[label_to_task0(labels[j])] for j in range(4)))\n"
   ]
  },
  {
   "cell_type": "markdown",
   "metadata": {},
   "source": [
    "# Defining the Model"
   ]
  },
  {
   "cell_type": "code",
   "execution_count": 158,
   "metadata": {},
   "outputs": [],
   "source": [
    "import torch.nn as nn\n",
    "import torch.nn.functional as F\n",
    "\n",
    "\n",
    "class Net(nn.Module):\n",
    "    def __init__(self):\n",
    "        super(Net, self).__init__()\n",
    "        self.conv1 = nn.Conv2d(3, 6, 5)\n",
    "        self.pool = nn.MaxPool2d(2, 2)\n",
    "        self.conv2 = nn.Conv2d(6, 16, 5)\n",
    "        self.fc1 = nn.Linear(16 * 5 * 5, 120)\n",
    "        self.fc2 = nn.Linear(120, 84)\n",
    "        self.fc3 = nn.Linear(84, 2)\n",
    "\n",
    "    def forward(self, x):\n",
    "        x = self.pool(F.relu(self.conv1(x)))\n",
    "        x = self.pool(F.relu(self.conv2(x)))\n",
    "        x = x.view(-1, 16 * 5 * 5)\n",
    "        x = F.relu(self.fc1(x))\n",
    "        x = F.relu(self.fc2(x))\n",
    "        x = self.fc3(x)\n",
    "        return x\n",
    "\n",
    "\n",
    "net = Net()"
   ]
  },
  {
   "cell_type": "markdown",
   "metadata": {},
   "source": [
    "## Defining the Loss function and Optimizer"
   ]
  },
  {
   "cell_type": "code",
   "execution_count": 159,
   "metadata": {},
   "outputs": [],
   "source": [
    "import torch.optim as optim\n",
    "\n",
    "criterion = nn.CrossEntropyLoss()\n",
    "optimizer = optim.SGD(net.parameters(), lr=0.001, momentum=0.9)"
   ]
  },
  {
   "cell_type": "markdown",
   "metadata": {},
   "source": [
    "# Training the Network"
   ]
  },
  {
   "cell_type": "code",
   "execution_count": 160,
   "metadata": {},
   "outputs": [],
   "source": [
    "cifar_mnist_to_num = [[i for i in range(10*j, 10*(j+1))] for j in range(0, 10)]\n",
    "\n",
    "def train(net, optimizer, criterion, epochs=1):\n",
    "    for epoch in range(epochs):  # loop over the dataset multiple times\n",
    "        running_loss = 0.0\n",
    "        for i, data in enumerate(trainloader, 0):\n",
    "            # get the inputs\n",
    "            inputs, labels = data\n",
    "            labels = torch.tensor([label_to_task0(l) for l in labels])\n",
    "            # zero the parameter gradients\n",
    "            optimizer.zero_grad()\n",
    "\n",
    "            # forward + backward + optimize\n",
    "            outputs = net(inputs)\n",
    "            loss = criterion(outputs, labels)\n",
    "            loss.backward()\n",
    "            optimizer.step()\n",
    "\n",
    "            # print statistics\n",
    "            running_loss += loss.item()\n",
    "            if i % 2000 == 1999:    # print every 2000 mini-batches\n",
    "                print('[%d, %5d] loss: %.3f' %\n",
    "                      (epoch + 1, i + 1, running_loss / 2000))\n",
    "                running_loss = 0.0\n",
    "\n",
    "    print('Finished Training')"
   ]
  },
  {
   "cell_type": "code",
   "execution_count": 161,
   "metadata": {},
   "outputs": [
    {
     "name": "stdout",
     "output_type": "stream",
     "text": [
      "[1,  2000] loss: 0.672\n",
      "[1,  4000] loss: 0.567\n",
      "[1,  6000] loss: 0.479\n",
      "[1,  8000] loss: 0.436\n",
      "[1, 10000] loss: 0.421\n",
      "[1, 12000] loss: 0.390\n",
      "Finished Training\n"
     ]
    }
   ],
   "source": [
    "train(net, optimizer, criterion)"
   ]
  },
  {
   "cell_type": "markdown",
   "metadata": {},
   "source": [
    "# Testing the Network"
   ]
  },
  {
   "cell_type": "code",
   "execution_count": 163,
   "metadata": {},
   "outputs": [
    {
     "data": {
      "image/png": "[encoded data removed]",
      "text/plain": [
       "<Figure size 432x288 with 1 Axes>"
      ]
     },
     "metadata": {},
     "output_type": "display_data"
    },
    {
     "name": "stdout",
     "output_type": "stream",
     "text": [
      "GroundTruth:  animal non-animal non-animal non-animal\n"
     ]
    },
    {
     "data": {
      "image/png": "[encoded data removed]",
      "text/plain": [
       "<Figure size 432x288 with 1 Axes>"
      ]
     },
     "metadata": {},
     "output_type": "display_data"
    },
    {
     "name": "stdout",
     "output_type": "stream",
     "text": [
      "GroundTruth:  animal animal non-animal animal\n"
     ]
    }
   ],
   "source": [
    "dataiter = iter(testloader)\n",
    "images, labels = dataiter.next()\n",
    "images2, labels2 = dataiter.next()\n",
    "\n",
    "# print images\n",
    "imshow(torchvision.utils.make_grid(images))\n",
    "print('GroundTruth: ', ' '.join('%5s' % task0_classes[label_to_task0(labels[j])] for j in range(4)))\n",
    "# print images\n",
    "imshow(torchvision.utils.make_grid(images2))\n",
    "print('GroundTruth: ', ' '.join('%5s' % task0_classes[label_to_task0(labels2[j])] for j in range(4)))\n"
   ]
  },
  {
   "cell_type": "code",
   "execution_count": 164,
   "metadata": {},
   "outputs": [
    {
     "name": "stdout",
     "output_type": "stream",
     "text": [
      "tensor(1)\n",
      "Predicted:  animal non-animal non-animal non-animal\n",
      "tensor(0)\n",
      "Predicted:  animal animal non-animal animal\n"
     ]
    }
   ],
   "source": [
    "outputs = net(images)\n",
    "_, predicted = torch.max(outputs, 1)\n",
    "\n",
    "print(predicted[3])\n",
    "print('Predicted: ', ' '.join('%5s' % task0_classes[predicted[j]]\n",
    "                              for j in range(4)))\n",
    "\n",
    "outputs2 = net(images2)\n",
    "_, predicted2 = torch.max(outputs2, 1)\n",
    "\n",
    "print(predicted2[3])\n",
    "print('Predicted: ', ' '.join('%5s' % task0_classes[predicted2[j]]\n",
    "                              for j in range(4)))"
   ]
  },
  {
   "cell_type": "code",
   "execution_count": 167,
   "metadata": {},
   "outputs": [],
   "source": [
    "def test_overall(net, performance=None):\n",
    "    correct = 0\n",
    "    total = 0\n",
    "    with torch.no_grad():\n",
    "        for data in testloader:\n",
    "            images, labels = data\n",
    "            labels = torch.tensor([label_to_task0(l) for l in labels])\n",
    "            outputs = net(images)\n",
    "            _, predicted = torch.max(outputs.data, 1)\n",
    "            total += labels.size(0)\n",
    "            correct += (predicted == labels).sum().item()\n",
    "\n",
    "    print('Accuracy of the network on the 10000 test images: %d %%' % (\n",
    "        100 * correct / total))\n",
    "    \n",
    "    if performance != None:\n",
    "        performance[\"all\"].append(100 * correct / total)"
   ]
  },
  {
   "cell_type": "code",
   "execution_count": 168,
   "metadata": {},
   "outputs": [
    {
     "name": "stdout",
     "output_type": "stream",
     "text": [
      "Accuracy of the network on the 10000 test images: 84 %\n"
     ]
    }
   ],
   "source": [
    "test_overall(net)"
   ]
  },
  {
   "cell_type": "code",
   "execution_count": 172,
   "metadata": {},
   "outputs": [],
   "source": [
    "def test_individual(net, performance=None):\n",
    "    class_correct = list(0. for i in range(2))\n",
    "    class_total = list(0. for i in range(2))\n",
    "    with torch.no_grad():\n",
    "        for data in testloader:\n",
    "            images, labels = data\n",
    "            labels = torch.tensor([label_to_task0(l) for l in labels])\n",
    "            outputs = net(images)\n",
    "            _, predicted = torch.max(outputs, 1)\n",
    "            c = (predicted == labels).squeeze()\n",
    "            for i in range(4):\n",
    "                label = labels[i]\n",
    "                class_correct[label] += c[i].item()\n",
    "                class_total[label] += 1\n",
    "\n",
    "\n",
    "    for i in range(2):\n",
    "        if class_total[i] == 0:\n",
    "            if performance != None:\n",
    "                performance[classes[i]].append(None)\n",
    "        else:\n",
    "            print('Accuracy of %5s : %2d %%' % (\n",
    "                task0_classes[i], 100 * class_correct[i] / class_total[i]))\n",
    "            if performance != None:\n",
    "                performance[task0_classes[i]].append(100 * class_correct[i] / class_total[i])"
   ]
  },
  {
   "cell_type": "code",
   "execution_count": 173,
   "metadata": {},
   "outputs": [
    {
     "name": "stdout",
     "output_type": "stream",
     "text": [
      "Accuracy of animal : 88 %\n",
      "Accuracy of non-animal : 78 %\n"
     ]
    }
   ],
   "source": [
    "test_individual(net)"
   ]
  },
  {
   "cell_type": "code",
   "execution_count": 174,
   "metadata": {
    "scrolled": true
   },
   "outputs": [
    {
     "name": "stdout",
     "output_type": "stream",
     "text": [
      "[1,  2000] loss: 0.676\n",
      "[1,  4000] loss: 0.572\n",
      "[1,  6000] loss: 0.500\n",
      "[1,  8000] loss: 0.467\n",
      "[1, 10000] loss: 0.436\n",
      "[1, 12000] loss: 0.412\n",
      "Finished Training\n",
      "Accuracy of the network on the 10000 test images: 78 %\n",
      "Accuracy of animal : 70 %\n",
      "Accuracy of non-animal : 90 %\n",
      "[1,  2000] loss: 0.673\n",
      "[1,  4000] loss: 0.583\n",
      "[1,  6000] loss: 0.489\n",
      "[1,  8000] loss: 0.451\n",
      "[1, 10000] loss: 0.427\n",
      "[1, 12000] loss: 0.409\n",
      "Finished Training\n",
      "Accuracy of the network on the 10000 test images: 84 %\n",
      "Accuracy of animal : 83 %\n",
      "Accuracy of non-animal : 85 %\n",
      "[1,  2000] loss: 0.665\n",
      "[1,  4000] loss: 0.525\n",
      "[1,  6000] loss: 0.484\n",
      "[1,  8000] loss: 0.459\n",
      "[1, 10000] loss: 0.431\n",
      "[1, 12000] loss: 0.413\n",
      "Finished Training\n",
      "Accuracy of the network on the 10000 test images: 82 %\n",
      "Accuracy of animal : 82 %\n",
      "Accuracy of non-animal : 83 %\n",
      "[1,  2000] loss: 0.668\n",
      "[1,  4000] loss: 0.558\n",
      "[1,  6000] loss: 0.499\n",
      "[1,  8000] loss: 0.465\n",
      "[1, 10000] loss: 0.432\n",
      "[1, 12000] loss: 0.412\n",
      "Finished Training\n",
      "Accuracy of the network on the 10000 test images: 81 %\n",
      "Accuracy of animal : 76 %\n",
      "Accuracy of non-animal : 87 %\n",
      "[1,  2000] loss: 0.657\n",
      "[1,  4000] loss: 0.554\n",
      "[1,  6000] loss: 0.490\n",
      "[1,  8000] loss: 0.455\n",
      "[1, 10000] loss: 0.426\n",
      "[1, 12000] loss: 0.406\n",
      "Finished Training\n",
      "Accuracy of the network on the 10000 test images: 81 %\n",
      "Accuracy of animal : 94 %\n",
      "Accuracy of non-animal : 61 %\n",
      "[1,  2000] loss: 0.658\n",
      "[1,  4000] loss: 0.543\n",
      "[1,  6000] loss: 0.487\n",
      "[1,  8000] loss: 0.452\n",
      "[1, 10000] loss: 0.433\n",
      "[1, 12000] loss: 0.408\n",
      "Finished Training\n",
      "Accuracy of the network on the 10000 test images: 84 %\n",
      "Accuracy of animal : 86 %\n",
      "Accuracy of non-animal : 81 %\n",
      "[1,  2000] loss: 0.650\n",
      "[1,  4000] loss: 0.522\n",
      "[1,  6000] loss: 0.489\n",
      "[1,  8000] loss: 0.460\n",
      "[1, 10000] loss: 0.431\n",
      "[1, 12000] loss: 0.410\n",
      "Finished Training\n",
      "Accuracy of the network on the 10000 test images: 83 %\n",
      "Accuracy of animal : 88 %\n",
      "Accuracy of non-animal : 76 %\n",
      "[1,  2000] loss: 0.631\n",
      "[1,  4000] loss: 0.512\n",
      "[1,  6000] loss: 0.466\n",
      "[1,  8000] loss: 0.433\n",
      "[1, 10000] loss: 0.403\n",
      "[1, 12000] loss: 0.380\n",
      "Finished Training\n",
      "Accuracy of the network on the 10000 test images: 84 %\n",
      "Accuracy of animal : 90 %\n",
      "Accuracy of non-animal : 76 %\n",
      "[1,  2000] loss: 0.675\n",
      "[1,  4000] loss: 0.657\n",
      "[1,  6000] loss: 0.543\n",
      "[1,  8000] loss: 0.488\n",
      "[1, 10000] loss: 0.448\n",
      "[1, 12000] loss: 0.419\n",
      "Finished Training\n",
      "Accuracy of the network on the 10000 test images: 83 %\n",
      "Accuracy of animal : 88 %\n",
      "Accuracy of non-animal : 76 %\n",
      "[1,  2000] loss: 0.643\n",
      "[1,  4000] loss: 0.500\n",
      "[1,  6000] loss: 0.462\n",
      "[1,  8000] loss: 0.429\n",
      "[1, 10000] loss: 0.413\n",
      "[1, 12000] loss: 0.392\n",
      "Finished Training\n",
      "Accuracy of the network on the 10000 test images: 84 %\n",
      "Accuracy of animal : 92 %\n",
      "Accuracy of non-animal : 71 %\n"
     ]
    }
   ],
   "source": [
    "def get_performance_data(iterations):\n",
    "    performance = {'all':[]}\n",
    "    for c in task0_classes:\n",
    "        performance[c] = []\n",
    "    for _ in range(iterations):\n",
    "        net = Net()\n",
    "        criterion = nn.CrossEntropyLoss()\n",
    "        optimizer = optim.SGD(net.parameters(), lr=0.001, momentum=0.9)\n",
    "        \n",
    "        train(net, optimizer, criterion)\n",
    "        test_overall(net, performance)\n",
    "        test_individual(net, performance)\n",
    "        \n",
    "    return performance\n",
    "        \n",
    "performance = get_performance_data(10)"
   ]
  },
  {
   "cell_type": "code",
   "execution_count": 175,
   "metadata": {},
   "outputs": [],
   "source": [
    "df = pd.DataFrame(data=performance)\n",
    "df.to_csv('cifar_mnist_default_performance.csv')"
   ]
  },
  {
   "cell_type": "code",
   "execution_count": 176,
   "metadata": {},
   "outputs": [
    {
     "data": {
      "text/plain": [
       "82.884"
      ]
     },
     "execution_count": 176,
     "metadata": {},
     "output_type": "execute_result"
    }
   ],
   "source": [
    "np.mean(performance['all'])"
   ]
  },
  {
   "cell_type": "code",
   "execution_count": null,
   "metadata": {},
   "outputs": [],
   "source": []
  },
  {
   "cell_type": "code",
   "execution_count": null,
   "metadata": {},
   "outputs": [],
   "source": []
  }
 ],
 "metadata": {
  "kernelspec": {
   "display_name": "Python 3",
   "language": "python",
   "name": "python3"
  },
  "language_info": {
   "codemirror_mode": {
    "name": "ipython",
    "version": 3
   },
   "file_extension": ".py",
   "mimetype": "text/x-python",
   "name": "python",
   "nbconvert_exporter": "python",
   "pygments_lexer": "ipython3",
   "version": "3.6.5"
  }
 },
 "nbformat": 4,
 "nbformat_minor": 2
}
